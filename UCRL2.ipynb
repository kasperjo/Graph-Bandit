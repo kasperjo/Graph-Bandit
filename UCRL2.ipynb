{
 "cells": [
  {
   "cell_type": "code",
   "execution_count": 4,
   "metadata": {},
   "outputs": [
    {
     "name": "stdout",
     "output_type": "stream",
     "text": [
      "The autoreload extension is already loaded. To reload it, use:\n",
      "  %reload_ext autoreload\n"
     ]
    }
   ],
   "source": [
    "import networkx as nx\n",
    "\n",
    "from agents import doubling_agent, local_ts_agent, local_ucb_agent\n",
    "from graph_bandit_helper_tools import testQLearning,return_graph,draw_graph\n",
    "from core import train_agent,visit_all_nodes\n",
    "import graph_bandit\n",
    "\n",
    "import numpy as np\n",
    "from functools import partial\n",
    "\n",
    "import pickle as pkl\n",
    "\n",
    "from matplotlib import pyplot as plt\n",
    "import seaborn as sns\n",
    "\n",
    "%load_ext autoreload\n",
    "%autoreload 2\n",
    "\n",
    "SEED = 181731"
   ]
  },
  {
   "cell_type": "code",
   "execution_count": 75,
   "metadata": {},
   "outputs": [],
   "source": [
    "import cvxpy as cp"
   ]
  },
  {
   "cell_type": "code",
   "execution_count": 24,
   "metadata": {},
   "outputs": [
    {
     "data": {
      "image/png": "[encoded data removed]",
      "text/plain": [
       "<Figure size 432x288 with 1 Axes>"
      ]
     },
     "metadata": {},
     "output_type": "display_data"
    }
   ],
   "source": [
    "T = 1500\n",
    "\n",
    "init_node = 1\n",
    "np.random.seed(SEED)\n",
    "n_nodes = 10\n",
    "G = return_graph('line', n_nodes)\n",
    "draw_graph(G)\n",
    "\n",
    "means = np.random.uniform(low=0.5,high=9.5,size=n_nodes)\n",
    "\n",
    "env = graph_bandit.GraphBandit(means,  G)\n",
    "\n",
    "## Visit all nodes\n",
    "visit_all_nodes(env)\n",
    "\n",
    "H0 = len(env.visitedStates)\n",
    "\n",
    "# Start learning\n",
    "\n",
    "env.state = init_node\n",
    "\n",
    "while len(env.visitedStates)-H0<T:\n",
    "    # execute_agent(env)\n",
    "    env.step(env.state)\n",
    "    \n",
    "\n",
    "regrets  = env.expectedRegret()[-T:]\n",
    "\n",
    "# print(env.visitedStates.shape,regrets.shape)\n",
    "\n",
    "# regrets[i,:]= env.expectedRegret()[:T]\n",
    "\n",
    "# regrets[i,:]= env.expectedRegret()[-T:]"
   ]
  },
  {
   "cell_type": "code",
   "execution_count": 192,
   "metadata": {
    "tags": []
   },
   "outputs": [
    {
     "name": "stdout",
     "output_type": "stream",
     "text": [
      "280.05315983387845 [ 14.64534579 287.27968638  15.69920731  15.56221995  12.39410772\n",
      "   9.62420591  16.07782633  10.46573186   8.83259459   7.22652654]\n",
      "287.27968640586363 [287.27968636 287.27968641 287.27968633  15.69920731  15.56221995\n",
      "  16.07782633  16.07782632  16.07782632  10.46573185   0.        ]\n",
      "287.2796864504257 [287.27968641 287.27968643 287.27968645 287.27968628  15.69920731\n",
      "  16.07782632  16.07782632  16.07782632  16.07782633   0.        ]\n",
      "287.2796864909174 [287.27968643 287.27968646 287.27968592 287.27968649 287.27968624\n",
      "  16.07782633  16.07782632  16.07782632  16.07782632   0.        ]\n",
      "287.2796865309292 [287.27968646 287.27968647 287.27968645 287.27968543 287.27968653\n",
      " 282.7017422   16.07782632  16.07782632  16.07782632   0.        ]\n",
      "287.27968657201563 [287.27968647 287.27968649 287.27968647 287.27968645 287.27968494\n",
      " 287.27968657 276.24812175  16.07782632  16.07782632   0.        ]\n",
      "287.2796866107075 [287.27968649 287.2796865  287.27968648 287.27968647 287.27968644\n",
      " 287.27968444 287.27968661 276.24812171  16.07782632   0.        ]\n",
      "287.2796866519655 [287.2796865  287.2796865  287.27968649 287.27968648 287.27968646\n",
      " 287.27968644 287.27968398 287.27968665 276.24812171   0.        ]\n",
      "287.27968664941017 [287.2796865  287.2796865  287.2796865  287.27968649 287.27968648\n",
      " 287.27968646 287.27968644 287.27968348 287.27968665   0.        ]\n",
      "287.27968650437606 [287.2796865  287.2796865  287.2796865  287.2796865  287.27968649\n",
      " 287.27968648 287.27968646 287.27968644 287.27968348   0.        ]\n"
     ]
    }
   ],
   "source": [
    "env.sasr\n",
    "S = len(env.G)\n",
    "A = len(env.G)\n",
    "delta = 0.1\n",
    "\n",
    "r_hat =  {(s,w):0 for s in env.G for w in env.G[s]}\n",
    "P = {(s,w):np.zeros(len(env.G[s])) for s in env.G for w in env.G[s]}\n",
    "\n",
    "N = {(s,w):0 for s in env.G for w in env.G[s]}\n",
    "\n",
    "    \n",
    "# Estimated mean reward and transition probabilities\n",
    "for (s,w),hist in env.sasr.items():\n",
    "        if len(hist)>0:\n",
    "            hist = np.array(hist)\n",
    "            nb = np.array([z for z in env.G[s]])\n",
    "            counts = np.count_nonzero(hist[:,0]==nb.reshape(len(nb),1),axis=1)\n",
    "            \n",
    "            N[(s,w)] = len(hist)\n",
    "            P[(s,w)] = counts/np.sum(counts)\n",
    "        \n",
    "            \n",
    "            r_hat[(s,w)] = np.mean(hist[:,1])\n",
    "            \n",
    "###### Extended Value iteration #####\n",
    "u = np.zeros(S)\n",
    "\n",
    "tk = len(env.visitedStates)\n",
    "\n",
    "\n",
    "# # The \\tilde{r}(s,a) term.\n",
    "r_ucb = {(s,w):r_hat[s,w]+np.sqrt(7*np.log(2*S*A*tk/delta) / 2*np.max([1,N[s,w]])) for s in env.G for w in env.G[s]}\n",
    "\n",
    "\n",
    "\n",
    "# Iteration starts.\n",
    "\n",
    "# while True:\n",
    "\n",
    "for _ in range(10):\n",
    "    \n",
    "    old_u = np.zeros(u.shape)\n",
    "    old_u[:] = u\n",
    "    \n",
    "    # The max_p \\sum_{s'} p[s']u[s'] such that p is a probability distribution satisfying ||p-P[s,w]||_{1} <=  the confidence radius for P[s,w]\n",
    "    U = {(s,w):0 for s in env.G for w in env.G[s]}\n",
    "\n",
    "    for (s,w) in U.keys():\n",
    "        if np.all(P[s,w]==0):\n",
    "            U[s,w]=0\n",
    "        else:\n",
    "            not_nb = np.array([i for i in env.G if i not in env.G[s]])\n",
    "\n",
    "            rad_P = np.sqrt(14*S*np.log(2*A*tk/delta) / np.max([1,N[s,w]]))\n",
    "\n",
    "            p = cp.Variable(S,nonneg=True)\n",
    "\n",
    "            constraints = [cp.sum(p)==1,\n",
    "                           p<=1,p[not_nb]==0,\n",
    "                           cp.norm(p[env.G[s]]-P[s,w],1)<=rad_P\n",
    "                          ]\n",
    "\n",
    "            prob = cp.Problem(cp.Maximize(p @ u),constraints)\n",
    "            prob.solve()\n",
    "            \n",
    "            # print(p.value,u)\n",
    "\n",
    "            U[s,w] = prob.value\n",
    "\n",
    "    for s in env.G:\n",
    "        # print(s,[r_ucb[s,w]+U[s,w] for w in env.G[s]])\n",
    "        u[s] = np.max([r_ucb[s,w]+U[s,w] for w in env.G[s]])\n",
    "        \n",
    "    gap = np.max(u-old_u) - np.min(u-old_u)\n",
    "    \n",
    "    print(gap,u-old_u)\n",
    "    # print(U)\n",
    "    \n",
    "    # print(u)\n",
    "    \n",
    "\n"
   ]
  },
  {
   "cell_type": "markdown",
   "metadata": {},
   "source": [
    "# We can see that the extended value iteration may not terminate if the probability vector is close to a one-hot vector. So the UCRL2 algorithm cannot directly apply to our case without further modification."
   ]
  }
 ],
 "metadata": {
  "kernelspec": {
   "display_name": "Python 3",
   "language": "python",
   "name": "python3"
  },
  "language_info": {
   "codemirror_mode": {
    "name": "ipython",
    "version": 3
   },
   "file_extension": ".py",
   "mimetype": "text/x-python",
   "name": "python",
   "nbconvert_exporter": "python",
   "pygments_lexer": "ipython3",
   "version": "3.7.6"
  }
 },
 "nbformat": 4,
 "nbformat_minor": 4
}
